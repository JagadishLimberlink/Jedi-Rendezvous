{
 "cells": [
  {
   "cell_type": "markdown",
   "metadata": {},
   "source": [
    "## MLE estimation"
   ]
  },
  {
   "cell_type": "markdown",
   "metadata": {},
   "source": [
    "A bag contains a set of white and black balls. We know that there are 25 balls in the bag but do not know the number of each kind. We take out five balls and find three white and two black balls. Out of the remaining 20 balls we draw 10 balls from the bag *with replacement* and find a white ball five times and a black ball five times. What is the maximum likelihood estimate of the number of white balls in the bag?"
   ]
  },
  {
   "cell_type": "code",
   "execution_count": null,
   "metadata": {
    "collapsed": false
   },
   "outputs": [],
   "source": [
    "num_white_balls=-1 #Replace -1 with your answer"
   ]
  },
  {
   "cell_type": "markdown",
   "metadata": {},
   "source": [
    "## Hyperparameter estimation"
   ]
  },
  {
   "cell_type": "markdown",
   "metadata": {},
   "source": [
    "Consider the following procedure of generating a number:\n",
    "\n",
    "1. A number $\\sigma$ is picked from the uniform distribution $U(0,\\alpha)$\n",
    "\n",
    "2. The number $x$ is sampled from the normal distribution with mean zero and standard deviation $\\sigma$ *i.e.* $x \\sim \\mathcal{N}(0,\\sigma)$\n",
    "\n",
    "\n",
    "The number $\\alpha$ is known as the *hyperparameter* since it is used to generate another parameter $\\sigma$. For example, the code below generates 10 numbers using the above procedure for $\\alpha=0.6$."
   ]
  },
  {
   "cell_type": "code",
   "execution_count": null,
   "metadata": {
    "collapsed": false
   },
   "outputs": [],
   "source": [
    "import numpy as np\n",
    "\n",
    "alpha=0.6  # Hyper-parameter  \n",
    "\n",
    "num_draws = 10\n",
    "\n",
    "for i in range(num_draws):\n",
    "    sigma = np.random.uniform(0,alpha)\n",
    "    x = np.random.normal(0,sigma)\n",
    "    print x"
   ]
  },
  {
   "cell_type": "markdown",
   "metadata": {},
   "source": [
    "The file [xdata.txt](https://github.com/JagadishLimberlink/Jedi-Rendezvous/blob/master/xdata.txt) contains 10K numbers that were generated using the above procedure for some $\\alpha$. Can you estimate the value of $\\alpha$ that was used?\n"
   ]
  },
  {
   "cell_type": "markdown",
   "metadata": {
    "collapsed": true
   },
   "source": [
    "## Correlated features"
   ]
  },
  {
   "cell_type": "markdown",
   "metadata": {},
   "source": [
    "For a dataset $(X,y)$, we have seen that the least-squares formulation with regularization is given follows:\n",
    "$$ \\mbox{min}_w \\;\\;\\;  \\frac{1}{2} \\lVert Xw-y \\rVert ^ 2  + \\lVert w \\rVert ^2 $$\n",
    "\n",
    "Suppose the dataset has two features $f_1$ and $f_2$ that are identical. Is it true that the optimal $w^{*}$ gives the same weight to $f_1$ and $f_2$? What about the case without regularization?"
   ]
  },
  {
   "cell_type": "code",
   "execution_count": null,
   "metadata": {
    "collapsed": true
   },
   "outputs": [],
   "source": []
  }
 ],
 "metadata": {
  "kernelspec": {
   "display_name": "Python 2",
   "language": "python",
   "name": "python2"
  },
  "language_info": {
   "codemirror_mode": {
    "name": "ipython",
    "version": 2
   },
   "file_extension": ".py",
   "mimetype": "text/x-python",
   "name": "python",
   "nbconvert_exporter": "python",
   "pygments_lexer": "ipython2",
   "version": "2.7.12"
  }
 },
 "nbformat": 4,
 "nbformat_minor": 1
}
